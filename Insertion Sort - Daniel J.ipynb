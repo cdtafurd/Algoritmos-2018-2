{
 "cells": [
  {
   "cell_type": "markdown",
   "metadata": {},
   "source": [
    "# Insertion Sort - Daniel Jiménez"
   ]
  },
  {
   "cell_type": "code",
   "execution_count": 16,
   "metadata": {},
   "outputs": [],
   "source": [
    "import random\n",
    "import math\n",
    "import matplotlib.pyplot as plt\n",
    "%matplotlib inline"
   ]
  },
  {
   "cell_type": "markdown",
   "metadata": {},
   "source": [
    "## Función para hacer swap/intercambio a dos elementos de un arreglo"
   ]
  },
  {
   "cell_type": "code",
   "execution_count": 17,
   "metadata": {},
   "outputs": [],
   "source": [
    "def swap(v, i, j):\n",
    "    t = v[i]\n",
    "    v[i] = v[j]\n",
    "    v[j] = t"
   ]
  },
  {
   "cell_type": "markdown",
   "metadata": {},
   "source": [
    "## Función para generar las permutaciones de un arreglo basado en el código de Daniel Jiménez"
   ]
  },
  {
   "cell_type": "code",
   "execution_count": 18,
   "metadata": {},
   "outputs": [],
   "source": [
    "def perm(v, i, n):\n",
    "    if i == n:\n",
    "        v1 = v[:]\n",
    "        permut.append(v1)\n",
    "    else:\n",
    "        for j in range(i, n):\n",
    "            swap(v, i, j)\n",
    "            perm(v, i + 1, n)\n",
    "            swap(v, i, j)"
   ]
  },
  {
   "cell_type": "markdown",
   "metadata": {},
   "source": [
    "## Función Insertion Sort"
   ]
  },
  {
   "cell_type": "code",
   "execution_count": 19,
   "metadata": {},
   "outputs": [],
   "source": [
    "def insertionSortSt(arr):\n",
    "    steps=0\n",
    "    compa=0\n",
    "    swaps=0\n",
    "    qwhile=0\n",
    "    for i in range(1,len(arr)):\n",
    "        cv=arr[i]\n",
    "        index=i\n",
    "        steps+=3\n",
    "        while index > 0 and arr[index-1]> cv:\n",
    "            compa+=1\n",
    "            arr[index]= arr[index-1]\n",
    "            swaps += 1\n",
    "            index -=1\n",
    "            steps+=3\n",
    "            qwhile+=1\n",
    "        arr[index]=cv\n",
    "        steps+=1\n",
    "        qwhile+=1\n",
    "    results=[]\n",
    "    results.append(steps)\n",
    "    results.append(compa)\n",
    "    results.append(swaps)\n",
    "    results.append(qwhile)\n",
    "    return results"
   ]
  },
  {
   "cell_type": "code",
   "execution_count": 20,
   "metadata": {},
   "outputs": [],
   "source": [
    "n = 10\n",
    "arr = list(i for i in range(n))\n",
    "acum_ins = 0\n",
    "acum_c = 0\n",
    "acum_int = 0\n",
    "acum_q = 0\n",
    "permut = []\n",
    "steps = []\n",
    "compa = []\n",
    "swaps = []\n",
    "qwhile =[]\n",
    "n1 = random.randint(1, math.factorial(n))\n",
    "permut = []\n",
    "perm(arr, 0, n)\n",
    "random.shuffle(permut)\n",
    "for a in range(n1):\n",
    "    acum = insertionSortSt(list(permut[a]))\n",
    "    acum_ins += acum[0]\n",
    "    steps.append(acum[0])\n",
    "    acum_c += acum[1]\n",
    "    compa.append(acum[1])\n",
    "    acum_int += acum[2]\n",
    "    swaps.append(acum[2])\n",
    "    acum_q += acum[2]\n",
    "    qwhile.append(acum[2])"
   ]
  },
  {
   "cell_type": "code",
   "execution_count": 21,
   "metadata": {},
   "outputs": [
    {
     "name": "stdout",
     "output_type": "stream",
     "text": [
      "ARREGLO DE TAMAÑO 10\n",
      "Número aleatorio de permutaciones: 664183\n",
      "La cantidad de instrucciones promedio es: 103.51065745434617\n",
      "La cantidad de comparaciones promedio es: 22.503552484782055\n",
      "La cantidad de intercambios promedio es: 22.503552484782055\n",
      "La cantidad de preguntas en el while promedio es: 22.503552484782055\n"
     ]
    }
   ],
   "source": [
    "print('ARREGLO DE TAMAÑO {}'.format(n))\n",
    "print('Número aleatorio de permutaciones: {}'.format(n1))\n",
    "print('La cantidad de instrucciones promedio es: {}'.format(float(acum_ins / n1)))\n",
    "print('La cantidad de comparaciones promedio es: {}'.format(float(acum_c / n1)))\n",
    "print('La cantidad de intercambios promedio es: {}'.format(float(acum_int / n1)))\n",
    "print('La cantidad de preguntas en el while promedio es: {}'.format(float(acum_q / n1)))"
   ]
  },
  {
   "cell_type": "code",
   "execution_count": 23,
   "metadata": {},
   "outputs": [
    {
     "data": {
      "image/png": "[encoded data removed]",
      "text/plain": [
       "<Figure size 432x288 with 1 Axes>"
      ]
     },
     "metadata": {},
     "output_type": "display_data"
    }
   ],
   "source": [
    "bins = list(sorted(set(steps)))\n",
    "bins.append(bins[len(bins)-1]+2)\n",
    "plt.hist(steps, bins = bins,facecolor='blue', alpha=0.5, edgecolor = 'black',  linewidth=1)\n",
    "plt.xlabel('Número de pasos')\n",
    "plt.ylabel('Frecuencia')\n",
    "plt.title('Histograma Pasos')\n",
    "plt.show()"
   ]
  },
  {
   "cell_type": "code",
   "execution_count": 24,
   "metadata": {},
   "outputs": [
    {
     "data": {
      "image/png": "[encoded data removed]",
      "text/plain": [
       "<Figure size 432x288 with 1 Axes>"
      ]
     },
     "metadata": {},
     "output_type": "display_data"
    }
   ],
   "source": [
    "bins = list(sorted(set(compa)))\n",
    "bins.append(bins[len(bins)-1]+2)\n",
    "plt.hist(compa, bins = bins,facecolor='green', alpha=0.5, edgecolor = 'black',  linewidth=1)\n",
    "plt.xlabel('Número de comparaciones')\n",
    "plt.ylabel('Frecuencia')\n",
    "plt.title('Histograma Comparaciones')\n",
    "plt.show()"
   ]
  },
  {
   "cell_type": "code",
   "execution_count": 25,
   "metadata": {},
   "outputs": [
    {
     "data": {
      "image/png": "[encoded data removed]",
      "text/plain": [
       "<Figure size 432x288 with 1 Axes>"
      ]
     },
     "metadata": {},
     "output_type": "display_data"
    }
   ],
   "source": [
    "bins = list(sorted(set(swaps)))\n",
    "bins.append(bins[len(bins)-1]+2)\n",
    "plt.hist(swaps, bins = bins,facecolor='red', alpha=0.5, edgecolor = 'black',  linewidth=1)\n",
    "plt.xlabel('Número de intercambios')\n",
    "plt.ylabel('Frecuencia')\n",
    "plt.title('Histograma Intercambios')\n",
    "plt.show()"
   ]
  },
  {
   "cell_type": "code",
   "execution_count": 26,
   "metadata": {},
   "outputs": [
    {
     "data": {
      "image/png": "[encoded data removed]",
      "text/plain": [
       "<Figure size 432x288 with 1 Axes>"
      ]
     },
     "metadata": {},
     "output_type": "display_data"
    }
   ],
   "source": [
    "bins = list(sorted(set(qwhile)))\n",
    "bins.append(bins[len(bins)-1]+2)\n",
    "plt.hist(qwhile, bins = bins,facecolor='yellow', alpha=0.5, edgecolor = 'black',  linewidth=1)\n",
    "plt.xlabel('Número de preguntas')\n",
    "plt.ylabel('Frecuencia')\n",
    "plt.title('Histograma Preguntas en el While')\n",
    "plt.show()"
   ]
  }
 ],
 "metadata": {
  "kernelspec": {
   "display_name": "Python 3",
   "language": "python",
   "name": "python3"
  },
  "language_info": {
   "codemirror_mode": {
    "name": "ipython",
    "version": 3
   },
   "file_extension": ".py",
   "mimetype": "text/x-python",
   "name": "python",
   "nbconvert_exporter": "python",
   "pygments_lexer": "ipython3",
   "version": "3.6.5"
  }
 },
 "nbformat": 4,
 "nbformat_minor": 2
}
