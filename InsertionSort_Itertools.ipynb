{
 "cells": [
  {
   "cell_type": "markdown",
   "metadata": {},
   "source": [
    "# Insertion Sort - Itertools"
   ]
  },
  {
   "cell_type": "code",
   "execution_count": 1,
   "metadata": {},
   "outputs": [],
   "source": [
    "import pylab as pl\n",
    "import itertools"
   ]
  },
  {
   "cell_type": "code",
   "execution_count": 2,
   "metadata": {},
   "outputs": [],
   "source": [
    "def insertionSortSt(arr):\n",
    "    steps=0\n",
    "    compa=0\n",
    "    swaps=0\n",
    "    qwhile=0\n",
    "    for i in range(1,len(arr)):\n",
    "        cv=arr[i]\n",
    "        index=i\n",
    "        steps+=3\n",
    "        while index > 0 and arr[index-1]> cv:\n",
    "            compa+=1\n",
    "            arr[index]= arr[index-1]\n",
    "            swaps += 1\n",
    "            index -=1\n",
    "            steps+=3\n",
    "            qwhile+=1\n",
    "        arr[index]=cv\n",
    "        steps+=1\n",
    "        qwhile+=1\n",
    "    nadeshiko=[steps,compa,swaps,qwhile]\n",
    "    return nadeshiko"
   ]
  },
  {
   "cell_type": "code",
   "execution_count": 3,
   "metadata": {},
   "outputs": [
    {
     "ename": "NameError",
     "evalue": "name 'raw_input' is not defined",
     "output_type": "error",
     "traceback": [
      "\u001b[0;31m---------------------------------------------------------------------------\u001b[0m",
      "\u001b[0;31mNameError\u001b[0m                                 Traceback (most recent call last)",
      "\u001b[0;32m<ipython-input-3-1e6a0433b56f>\u001b[0m in \u001b[0;36m<module>\u001b[0;34m()\u001b[0m\n\u001b[0;32m----> 1\u001b[0;31m \u001b[0mn\u001b[0m\u001b[0;34m=\u001b[0m \u001b[0mint\u001b[0m\u001b[0;34m(\u001b[0m\u001b[0mraw_input\u001b[0m\u001b[0;34m(\u001b[0m\u001b[0;34m)\u001b[0m\u001b[0;34m)\u001b[0m\u001b[0;34m\u001b[0m\u001b[0m\n\u001b[0m\u001b[1;32m      2\u001b[0m \u001b[0mlista\u001b[0m\u001b[0;34m=\u001b[0m\u001b[0;34m[\u001b[0m\u001b[0;34m]\u001b[0m\u001b[0;34m\u001b[0m\u001b[0m\n\u001b[1;32m      3\u001b[0m \u001b[0marr_steps\u001b[0m\u001b[0;34m=\u001b[0m\u001b[0;34m[\u001b[0m\u001b[0;34m]\u001b[0m\u001b[0;34m\u001b[0m\u001b[0m\n\u001b[1;32m      4\u001b[0m \u001b[0marr_compa\u001b[0m\u001b[0;34m=\u001b[0m\u001b[0;34m[\u001b[0m\u001b[0;34m]\u001b[0m\u001b[0;34m\u001b[0m\u001b[0m\n\u001b[1;32m      5\u001b[0m \u001b[0marr_swaps\u001b[0m\u001b[0;34m=\u001b[0m\u001b[0;34m[\u001b[0m\u001b[0;34m]\u001b[0m\u001b[0;34m\u001b[0m\u001b[0m\n",
      "\u001b[0;31mNameError\u001b[0m: name 'raw_input' is not defined"
     ]
    }
   ],
   "source": [
    "n= int(raw_input())\n",
    "lista=[]\n",
    "arr_steps=[]\n",
    "arr_compa=[]\n",
    "arr_swaps=[]\n",
    "arr_qwhile=[]\n",
    "for i in range(n):\n",
    "    lista.append(i)\n",
    "permutations=(list(itertools.permutations(lista)))\n",
    "\n",
    "for sorting in permutations:\n",
    "    arr=list(sorting)\n",
    "    analisis=insertionSortSt(arr)\n",
    "    arr_steps.append(analisis[0])\n",
    "    arr_compa.append(analisis[1])\n",
    "    arr_swaps.append(analisis[2])\n",
    "    arr_qwhile.append(analisis[3])\n",
    "\n",
    "\n",
    "pl.hist(arr_steps, bins='auto')\n",
    "pl.title(\"Histograma con todas las permutaciones de n steps\")\n",
    "pl.show()\n",
    "\n",
    "pl.hist(arr_compa, bins='auto')\n",
    "pl.title(\"Histograma con todas las permutaciones de n comparisons\")\n",
    "pl.show()\n",
    "\n",
    "pl.hist(arr_swaps, bins='auto')\n",
    "pl.title(\"Histograma con todas las permutaciones de n swaps\")\n",
    "pl.show()\n",
    "\n",
    "pl.hist(arr_qwhile, bins='auto')\n",
    "pl.title(\"Histograma con todas las permutaciones de preguntas en el while\")\n",
    "pl.show()"
   ]
  },
  {
   "cell_type": "code",
   "execution_count": null,
   "metadata": {},
   "outputs": [],
   "source": []
  }
 ],
 "metadata": {
  "kernelspec": {
   "display_name": "Python 3",
   "language": "python",
   "name": "python3"
  },
  "language_info": {
   "codemirror_mode": {
    "name": "ipython",
    "version": 3
   },
   "file_extension": ".py",
   "mimetype": "text/x-python",
   "name": "python",
   "nbconvert_exporter": "python",
   "pygments_lexer": "ipython3",
   "version": "3.6.5"
  }
 },
 "nbformat": 4,
 "nbformat_minor": 2
}
